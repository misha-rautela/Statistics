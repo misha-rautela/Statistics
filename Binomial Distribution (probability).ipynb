{
 "cells": [
  {
   "cell_type": "markdown",
   "id": "42492778",
   "metadata": {},
   "source": [
    "Flipping a fair coin (where the probability of heads is 0.5) 10 times, and you want to know the probability of getting exactly 6 heads.\n",
    "\n",
    "Step 1: Visualizing the Binomial Distribution\n",
    "We will visualize the binomial distribution using a simple example:\n",
    "\n",
    "n = 10 (number of coin flips)\n",
    "\n",
    "p = 0.5 (probability of heads)\n",
    "\n",
    "k = 6 (number of heads we are interested in)"
   ]
  },
  {
   "cell_type": "code",
   "execution_count": 2,
   "id": "96e15211",
   "metadata": {},
   "outputs": [
    {
     "data": {
      "image/png": "[encoded data removed]",
      "text/plain": [
       "<Figure size 432x288 with 1 Axes>"
      ]
     },
     "metadata": {
      "needs_background": "light"
     },
     "output_type": "display_data"
    }
   ],
   "source": [
    "import numpy as np\n",
    "import matplotlib.pyplot as plt\n",
    "import scipy.stats as stats\n",
    "\n",
    "# Parameters for the binomial distribution\n",
    "n = 10   # Number of trials (coin flips)\n",
    "p = 0.5  # Probability of success (heads)\n",
    "\n",
    "# Create an array of possible values for the number of heads (k = 0 to n)\n",
    "k_values = np.arange(0, n+1)\n",
    "\n",
    "# Calculate the binomial probability mass function (PMF) for each k\n",
    "pmf_values = stats.binom.pmf(k_values, n, p)\n",
    "\n",
    "# Plotting the binomial distribution\n",
    "plt.bar(k_values, pmf_values, color='blue', alpha=0.7)\n",
    "plt.title('Binomial Distribution (n=10, p=0.5)')\n",
    "plt.xlabel('Number of Heads (k)')\n",
    "plt.ylabel('Probability')\n",
    "plt.grid(True)\n",
    "plt.show()\n"
   ]
  },
  {
   "cell_type": "code",
   "execution_count": 3,
   "id": "a81b3e10",
   "metadata": {},
   "outputs": [
    {
     "name": "stdout",
     "output_type": "stream",
     "text": [
      "Probability of getting exactly 6 heads in 10 coin flips: 0.2051\n"
     ]
    }
   ],
   "source": [
    "# Calculate the probability of getting exactly 6 heads\n",
    "k = 6\n",
    "probability_6_heads = stats.binom.pmf(k, n, p)\n",
    "\n",
    "print(f\"Probability of getting exactly 6 heads in 10 coin flips: {probability_6_heads:.4f}\")\n"
   ]
  },
  {
   "cell_type": "code",
   "execution_count": 4,
   "id": "799a79a6",
   "metadata": {},
   "outputs": [
    {
     "name": "stdout",
     "output_type": "stream",
     "text": [
      "Probability of getting at most 6 heads in 10 coin flips: 0.8281\n"
     ]
    }
   ],
   "source": [
    "# Calculate the cumulative probability of getting at most 6 heads\n",
    "cumulative_prob_6_heads = stats.binom.cdf(k, n, p)\n",
    "\n",
    "print(f\"Probability of getting at most 6 heads in 10 coin flips: {cumulative_prob_6_heads:.4f}\")\n"
   ]
  },
  {
   "cell_type": "markdown",
   "id": "f97c3467",
   "metadata": {},
   "source": [
    "Binomial Distribution: It describes the probability of having exactly k successes (heads) in n independent trials (coin flips)."
   ]
  },
  {
   "cell_type": "markdown",
   "id": "5b73379d",
   "metadata": {},
   "source": [
    "PMF (Probability Mass Function): It gives the probability of getting exactly k successes."
   ]
  },
  {
   "cell_type": "markdown",
   "id": "392d724d",
   "metadata": {},
   "source": [
    "CDF (Cumulative Distribution Function): It gives the probability of getting at most k successes"
   ]
  },
  {
   "cell_type": "markdown",
   "id": "23872cf3",
   "metadata": {},
   "source": [
    "The Binomial Distribution is useful when you are dealing with a fixed number of independent trials, each with two possible outcomes (success or failure). "
   ]
  },
  {
   "cell_type": "code",
   "execution_count": null,
   "id": "f669eb51",
   "metadata": {},
   "outputs": [],
   "source": []
  }
 ],
 "metadata": {
  "kernelspec": {
   "display_name": "Python 3 (ipykernel)",
   "language": "python",
   "name": "python3"
  },
  "language_info": {
   "codemirror_mode": {
    "name": "ipython",
    "version": 3
   },
   "file_extension": ".py",
   "mimetype": "text/x-python",
   "name": "python",
   "nbconvert_exporter": "python",
   "pygments_lexer": "ipython3",
   "version": "3.9.12"
  }
 },
 "nbformat": 4,
 "nbformat_minor": 5
}
