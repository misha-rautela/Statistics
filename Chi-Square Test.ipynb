{
 "cells": [
  {
   "cell_type": "code",
   "execution_count": 1,
   "id": "4c7d8b6a",
   "metadata": {},
   "outputs": [
    {
     "name": "stdout",
     "output_type": "stream",
     "text": [
      "Chi-Square Statistic: 15.041666666666666\n",
      "P-value: 0.00010516355403363098\n",
      "Degrees of Freedom: 1\n",
      "Expected Frequencies:\n",
      "[[20. 20.]\n",
      " [30. 30.]]\n",
      "Reject the null hypothesis: There is an association between gender and product preference.\n"
     ]
    }
   ],
   "source": [
    "import numpy as np\n",
    "import scipy.stats as stats\n",
    "\n",
    "# Observed data (contingency table)\n",
    "observed_data = np.array([[30, 10],  # Male: Product A, Product B\n",
    "                          [20, 40]]) # Female: Product A, Product B\n",
    "\n",
    "# Perform Chi-Square test for independence\n",
    "chi2_stat, p_value, dof, expected = stats.chi2_contingency(observed_data)\n",
    "\n",
    "# Output the results\n",
    "print(f\"Chi-Square Statistic: {chi2_stat}\")\n",
    "print(f\"P-value: {p_value}\")\n",
    "print(f\"Degrees of Freedom: {dof}\")\n",
    "print(f\"Expected Frequencies:\\n{expected}\")\n",
    "\n",
    "# Interpretation of results\n",
    "alpha = 0.05  # Significance level\n",
    "\n",
    "if p_value < alpha:\n",
    "    print(\"Reject the null hypothesis: There is an association between gender and product preference.\")\n",
    "else:\n",
    "    print(\"Fail to reject the null hypothesis: There is no association between gender and product preference.\")\n"
   ]
  },
  {
   "cell_type": "code",
   "execution_count": null,
   "id": "94427026",
   "metadata": {},
   "outputs": [],
   "source": []
  }
 ],
 "metadata": {
  "kernelspec": {
   "display_name": "Python 3 (ipykernel)",
   "language": "python",
   "name": "python3"
  },
  "language_info": {
   "codemirror_mode": {
    "name": "ipython",
    "version": 3
   },
   "file_extension": ".py",
   "mimetype": "text/x-python",
   "name": "python",
   "nbconvert_exporter": "python",
   "pygments_lexer": "ipython3",
   "version": "3.9.12"
  }
 },
 "nbformat": 4,
 "nbformat_minor": 5
}
