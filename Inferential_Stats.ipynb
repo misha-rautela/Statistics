{
 "cells": [
  {
   "cell_type": "markdown",
   "id": "56e502af",
   "metadata": {},
   "source": [
    "Use Case:\n",
    "Analyzing the average salary of employees in a company. We have a sample of 20 employees, and we want to make inferences about the average salary for the entire company.\n",
    "\n",
    "Key Inferential Statistics Concepts:\n",
    "Confidence Interval: A range of values that is likely to contain the population parameter (e.g., population mean) with a certain level of confidence.\n",
    "\n",
    "Hypothesis Testing: Testing whether a certain assumption about a population parameter is true.\n",
    "\n",
    "T-test: A statistical test used to compare the means of two groups when the sample size is small and the population standard deviation is unknown."
   ]
  },
  {
   "cell_type": "markdown",
   "id": "6ae90d61",
   "metadata": {},
   "source": [
    "Step 1: Confidence Interval\n",
    "A confidence interval is a range that likely contains the true population mean. We calculate it using the sample mean and standard error.\n"
   ]
  },
  {
   "cell_type": "code",
   "execution_count": 1,
   "id": "64ab6c8d",
   "metadata": {},
   "outputs": [
    {
     "name": "stdout",
     "output_type": "stream",
     "text": [
      "95% Confidence Interval for the mean salary: (55.594358723355, 60.905641276645)\n"
     ]
    }
   ],
   "source": [
    "import numpy as np\n",
    "import scipy.stats as stats\n",
    "\n",
    "# Sample data (salaries in thousands)\n",
    "salaries = [50, 55, 48, 60, 62, 51, 58, 57, 63, 54,\n",
    "            52, 59, 56, 65, 64, 67, 60, 68, 61, 55]\n",
    "\n",
    "# Calculate sample mean and sample standard deviation\n",
    "sample_mean = np.mean(salaries)\n",
    "sample_std = np.std(salaries, ddof=1)  # Sample standard deviation (ddof=1 for sample)\n",
    "sample_size = len(salaries)\n",
    "\n",
    "# Confidence level (95%)\n",
    "confidence_level = 0.95\n",
    "alpha = 1 - confidence_level\n",
    "t_critical = stats.t.ppf(1 - alpha/2, df=sample_size - 1)  # t-critical value for the sample\n",
    "\n",
    "# Calculate margin of error\n",
    "margin_of_error = t_critical * (sample_std / np.sqrt(sample_size))\n",
    "\n",
    "# Calculate the confidence interval\n",
    "confidence_interval = (sample_mean - margin_of_error, sample_mean + margin_of_error)\n",
    "\n",
    "print(f\"95% Confidence Interval for the mean salary: {confidence_interval}\")\n"
   ]
  },
  {
   "cell_type": "markdown",
   "id": "00fb63bc",
   "metadata": {},
   "source": [
    "Step 2: Hypothesis Testing (One-Sample t-test)\n",
    "Now, we want to test the hypothesis that the average salary for employees in the company is 55k (population mean).\n",
    "\n",
    "Hypotheses:\n",
    "Null Hypothesis (H₀): The average salary is 55k (i.e., population mean = 55k).\n",
    "\n",
    "Alternative Hypothesis (H₁): The average salary is not 55k (i.e., population mean ≠ 55k)."
   ]
  },
  {
   "cell_type": "code",
   "execution_count": 3,
   "id": "02051e0a",
   "metadata": {},
   "outputs": [
    {
     "name": "stdout",
     "output_type": "stream",
     "text": [
      "T-statistic: 2.5614634915678702\n",
      "P-value: 0.019088847933522755\n",
      "Reject the null hypothesis: The sample mean is significantly different from 55k.\n"
     ]
    }
   ],
   "source": [
    "# Population mean (known value)\n",
    "population_mean = 55\n",
    "\n",
    "# Perform a one-sample t-test\n",
    "t_statistic, p_value = stats.ttest_1samp(salaries, population_mean)\n",
    "\n",
    "# Set significance level (alpha = 0.05 for 95% confidence)\n",
    "alpha = 0.05\n",
    "\n",
    "# Determine if we reject the null hypothesis\n",
    "if p_value < alpha:\n",
    "    result = \"Reject the null hypothesis: The sample mean is significantly different from 55k.\"\n",
    "else:\n",
    "    result = \"Fail to reject the null hypothesis: The sample mean is not significantly different from 55k.\"\n",
    "\n",
    "print(f\"T-statistic: {t_statistic}\")\n",
    "print(f\"P-value: {p_value}\")\n",
    "print(result)\n"
   ]
  },
  {
   "cell_type": "code",
   "execution_count": null,
   "id": "683417bc",
   "metadata": {},
   "outputs": [],
   "source": []
  }
 ],
 "metadata": {
  "kernelspec": {
   "display_name": "Python 3 (ipykernel)",
   "language": "python",
   "name": "python3"
  },
  "language_info": {
   "codemirror_mode": {
    "name": "ipython",
    "version": 3
   },
   "file_extension": ".py",
   "mimetype": "text/x-python",
   "name": "python",
   "nbconvert_exporter": "python",
   "pygments_lexer": "ipython3",
   "version": "3.9.12"
  }
 },
 "nbformat": 4,
 "nbformat_minor": 5
}
