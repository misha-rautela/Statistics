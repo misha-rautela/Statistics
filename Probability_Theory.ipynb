{
 "cells": [
  {
   "cell_type": "code",
   "execution_count": 1,
   "id": "98a55c6f",
   "metadata": {},
   "outputs": [],
   "source": [
    "#Step 1: Setup a Deck of Cards\n",
    "import random\n",
    "\n",
    "# Define a deck of cards (52 cards)\n",
    "suits = ['hearts', 'diamonds', 'clubs', 'spades']\n",
    "ranks = ['2', '3', '4', '5', '6', '7', '8', '9', '10', 'J', 'Q', 'K', 'A']\n",
    "\n",
    "deck = [f'{rank} of {suit}' for suit in suits for rank in ranks]\n",
    "\n",
    "# Shuffle the deck (optional, if you want to simulate randomness)\n",
    "random.shuffle(deck)\n"
   ]
  },
  {
   "cell_type": "markdown",
   "id": "9ef48112",
   "metadata": {},
   "source": [
    "Step 2: Key Probability Concepts\n",
    "Basic Probability: The probability of drawing a king from the deck.\n",
    "\n",
    "There are 4 kings (one from each suit) in a deck of 52 cards. The probability of drawing one king is:\n",
    "P(King)= Number of Kings/Total Number of Cards =4/52"
   ]
  },
  {
   "cell_type": "code",
   "execution_count": 2,
   "id": "06887c42",
   "metadata": {},
   "outputs": [
    {
     "name": "stdout",
     "output_type": "stream",
     "text": [
      "Probability of drawing a King: 0.0769\n"
     ]
    }
   ],
   "source": [
    "# Number of Kings in the deck\n",
    "num_kings = 4\n",
    "\n",
    "# Total number of cards in the deck\n",
    "total_cards = len(deck)\n",
    "\n",
    "# Probability of drawing a King\n",
    "probability_king = num_kings / total_cards\n",
    "print(f\"Probability of drawing a King: {probability_king:.4f}\")\n"
   ]
  },
  {
   "cell_type": "markdown",
   "id": "abb8650f",
   "metadata": {},
   "source": [
    "Step 3: Complementary Probability\n",
    "The complementary probability is the probability of the event not happening. For example, the probability of not drawing a King:\n",
    "P(Not King)=1−P(King)"
   ]
  },
  {
   "cell_type": "code",
   "execution_count": 3,
   "id": "595624dd",
   "metadata": {},
   "outputs": [
    {
     "name": "stdout",
     "output_type": "stream",
     "text": [
      "Probability of NOT drawing a King: 0.9231\n"
     ]
    }
   ],
   "source": [
    "# Probability of not drawing a King\n",
    "probability_not_king = 1 - probability_king\n",
    "print(f\"Probability of NOT drawing a King: {probability_not_king:.4f}\")"
   ]
  },
  {
   "cell_type": "markdown",
   "id": "7a14ffe0",
   "metadata": {},
   "source": [
    "Step 4: Conditional Probability\n",
    "Conditional probability is the probability of an event occurring, given that another event has already occurred."
   ]
  },
  {
   "cell_type": "code",
   "execution_count": 4,
   "id": "f9f7e121",
   "metadata": {},
   "outputs": [
    {
     "name": "stdout",
     "output_type": "stream",
     "text": [
      "Conditional Probability of drawing a red card given a black card was drawn: 0.5098\n"
     ]
    }
   ],
   "source": [
    "# After drawing one black card, remaining deck has 51 cards\n",
    "remaining_deck = total_cards - 1\n",
    "\n",
    "# Number of red cards in the deck (hearts + diamonds)\n",
    "num_red_cards = 13 * 2  # 26 red cards in total\n",
    "\n",
    "# Probability of drawing a red card given that a black card was drawn\n",
    "probability_red_given_black = num_red_cards / remaining_deck\n",
    "print(f\"Conditional Probability of drawing a red card given a black card was drawn: {probability_red_given_black:.4f}\")\n"
   ]
  },
  {
   "cell_type": "markdown",
   "id": "18cd4b5c",
   "metadata": {},
   "source": [
    "Step 5: Bayes' Theorem\n",
    "Bayes' Theorem allows us to calculate the probability of an event, based on prior knowledge of related conditions. For example, let's say we want to know the probability of drawing a king given that the drawn card is a red card.\n",
    "\n",
    "Bayes' Theorem:P(King | Red Card)=(Red Card | King)⋅P(King)/P(Red Card)\n",
    "Where:\n",
    "P(Red Card | King) is the probability of a red card given that it's a king, which is 2/4 because there are 2 red kings.\n",
    "P(King) is the probability of drawing a king (which we already calculated).\n",
    "P(Red Card) is the probability of drawing a red card, which is 26/52."
   ]
  },
  {
   "cell_type": "code",
   "execution_count": 5,
   "id": "bf024a8b",
   "metadata": {},
   "outputs": [
    {
     "name": "stdout",
     "output_type": "stream",
     "text": [
      "Bayes' Theorem: Probability of drawing a King given a Red Card: 0.0769\n"
     ]
    }
   ],
   "source": [
    "# Probability of drawing a red card\n",
    "probability_red_card = num_red_cards / total_cards\n",
    "\n",
    "# Probability of drawing a red king (2 red kings)\n",
    "num_red_kings = 2\n",
    "probability_red_given_king = num_red_kings / num_kings  # Red kings out of total kings\n",
    "\n",
    "# Using Bayes' Theorem to calculate P(King | Red Card)\n",
    "probability_king_given_red = (probability_red_given_king * probability_king) / probability_red_card\n",
    "print(f\"Bayes' Theorem: Probability of drawing a King given a Red Card: {probability_king_given_red:.4f}\")\n"
   ]
  },
  {
   "cell_type": "code",
   "execution_count": null,
   "id": "817d6b38",
   "metadata": {},
   "outputs": [],
   "source": []
  }
 ],
 "metadata": {
  "kernelspec": {
   "display_name": "Python 3 (ipykernel)",
   "language": "python",
   "name": "python3"
  },
  "language_info": {
   "codemirror_mode": {
    "name": "ipython",
    "version": 3
   },
   "file_extension": ".py",
   "mimetype": "text/x-python",
   "name": "python",
   "nbconvert_exporter": "python",
   "pygments_lexer": "ipython3",
   "version": "3.9.12"
  }
 },
 "nbformat": 4,
 "nbformat_minor": 5
}
