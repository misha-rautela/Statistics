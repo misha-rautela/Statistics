{
 "cells": [
  {
   "cell_type": "code",
   "execution_count": 4,
   "id": "c2baa202",
   "metadata": {},
   "outputs": [
    {
     "name": "stdout",
     "output_type": "stream",
     "text": [
      "Mean: 33.1\n",
      "Median: 33.5\n",
      "Mode: 23 with count: 2\n",
      "Range: 38\n",
      "Standard Deviation: 11.414464507807628\n",
      "Variance: 130.29000000000002\n"
     ]
    }
   ],
   "source": [
    "import numpy as np\n",
    "import scipy.stats as stats\n",
    "\n",
    "# Data (ages of 10 people)\n",
    "ages = [23, 45, 12, 36, 50, 45, 39, 23, 27, 31]\n",
    "\n",
    "# 1. Mean (Average)\n",
    "mean = np.mean(ages)\n",
    "print(f\"Mean: {mean}\")\n",
    "\n",
    "# 2. Median\n",
    "median = np.median(ages)\n",
    "print(f\"Median: {median}\")\n",
    "\n",
    "# 3. Mode\n",
    "mode_result = stats.mode(ages)\n",
    "\n",
    "# Handle mode result correctly\n",
    "if isinstance(mode_result.mode, np.ndarray):  # If mode is an array (multiple modes)\n",
    "    mode_value = mode_result.mode[0]\n",
    "    mode_count = mode_result.count[0]\n",
    "else:  # If mode is a scalar (single mode)\n",
    "    mode_value = mode_result.mode\n",
    "    mode_count = mode_result.count\n",
    "\n",
    "print(f\"Mode: {mode_value} with count: {mode_count}\")\n",
    "\n",
    "# 4. Range (Max - Min)\n",
    "range_value = np.max(ages) - np.min(ages)\n",
    "print(f\"Range: {range_value}\")\n",
    "\n",
    "# 5. Standard Deviation\n",
    "std_dev = np.std(ages)\n",
    "print(f\"Standard Deviation: {std_dev}\")\n",
    "\n",
    "# 6. Variance\n",
    "variance = np.var(ages)\n",
    "print(f\"Variance: {variance}\")\n"
   ]
  },
  {
   "cell_type": "code",
   "execution_count": null,
   "id": "410af2d7",
   "metadata": {},
   "outputs": [],
   "source": []
  },
  {
   "cell_type": "code",
   "execution_count": null,
   "id": "76218517",
   "metadata": {},
   "outputs": [],
   "source": []
  }
 ],
 "metadata": {
  "kernelspec": {
   "display_name": "Python 3 (ipykernel)",
   "language": "python",
   "name": "python3"
  },
  "language_info": {
   "codemirror_mode": {
    "name": "ipython",
    "version": 3
   },
   "file_extension": ".py",
   "mimetype": "text/x-python",
   "name": "python",
   "nbconvert_exporter": "python",
   "pygments_lexer": "ipython3",
   "version": "3.9.12"
  }
 },
 "nbformat": 4,
 "nbformat_minor": 5
}
