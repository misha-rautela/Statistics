{
 "cells": [
  {
   "cell_type": "markdown",
   "id": "d7075b74",
   "metadata": {},
   "source": [
    "Simple Random Sampling:\n",
    "When the population is homogeneous, and every individual has an equal chance of being selected.\n",
    "Useful when you want unbiased estimates of the population."
   ]
  },
  {
   "cell_type": "code",
   "execution_count": 1,
   "id": "bed58513",
   "metadata": {
    "scrolled": true
   },
   "outputs": [
    {
     "name": "stdout",
     "output_type": "stream",
     "text": [
      "Random Sample: [56 59 24 26 32 36 28 36 31 26 48 64 61 39 46 25 40 55 40 55 19 50 36 21\n",
      " 29 40 52 61 64 61 33 31 58 51 57 36 34 51 18 47 28 51 48 48 52 62 59 49\n",
      " 38 41 18 32 55 48 18 62 47 45 36 19 31 55 46 36 20 47 57 29 33 62 41 28\n",
      " 46 23 57 40 45 28 22 27 63 46 41 33 54 64 30 48 19 57 38 34 64 61 41 62\n",
      " 61 50 31 25]\n"
     ]
    }
   ],
   "source": [
    "import numpy as np\n",
    "import pandas as pd\n",
    "\n",
    "# Generate a population of 1000 individuals (e.g., with ages between 18 and 65)\n",
    "population = np.random.randint(18, 65, size=1000)\n",
    "\n",
    "# Simple Random Sampling: randomly select a sample of 100 individuals from the population\n",
    "sample_size = 100\n",
    "random_sample = np.random.choice(population, sample_size, replace=False)\n",
    "\n",
    "# Show the random sample\n",
    "print(\"Random Sample:\", random_sample)\n"
   ]
  },
  {
   "cell_type": "markdown",
   "id": "b01552dd",
   "metadata": {},
   "source": [
    "Stratified Sampling:\n",
    "When you need to ensure that specific subgroups (e.g., age groups, income levels, or geographic regions) are adequately represented in the sample."
   ]
  },
  {
   "cell_type": "code",
   "execution_count": 2,
   "id": "5ef8ff0b",
   "metadata": {},
   "outputs": [
    {
     "name": "stdout",
     "output_type": "stream",
     "text": [
      "Stratified Sample: [27 62 60 53 18 42 59 57 36 33 29 58 48 54 37 22 57 58 32 63 43 46 30 58\n",
      " 22 46 23 42 19 63 32 33 25 18 47 32 62 49 49 30 39 24 31 23 53 22 63 54\n",
      " 58 54 55 58 38 47 47 64 58 57 23 21 58 39 27 33 57 33 28 19 36 32 21 44\n",
      " 63 25 53 47 63 58 28 25 50 45 40 45 61 46 60 30 28 27 47 44 41 45 50 43\n",
      " 39 38 36 46]\n"
     ]
    }
   ],
   "source": [
    "# Create a population with two strata (e.g., Males and Females)\n",
    "males = np.random.randint(18, 65, size=500)  # 500 males\n",
    "females = np.random.randint(18, 65, size=500)  # 500 females\n",
    "\n",
    "# Stratified Sampling: Randomly select 50 males and 50 females\n",
    "male_sample = np.random.choice(males, 50, replace=False)\n",
    "female_sample = np.random.choice(females, 50, replace=False)\n",
    "\n",
    "# Combine the male and female samples into one stratified sample\n",
    "stratified_sample = np.concatenate((male_sample, female_sample))\n",
    "\n",
    "# Show the stratified sample\n",
    "print(\"Stratified Sample:\", stratified_sample)"
   ]
  },
  {
   "cell_type": "markdown",
   "id": "e6f4cb97",
   "metadata": {},
   "source": [
    "Systematic Sampling type of probability sampling method in which you select every nth member from a population list after choosing a random starting point. It is often used when it is difficult or impractical to randomly select each member of the population but still want to maintain some form of randomness and representativeness in the sample."
   ]
  },
  {
   "cell_type": "markdown",
   "id": "705fcabc",
   "metadata": {},
   "source": [
    "Key Features:\n",
    "Simple to Implement: Systematic sampling is easy to apply when you have a large, ordered population.\n",
    "\n",
    "Uniform Spread: This method ensures that samples are spread out across the entire population, making it less prone to clustering compared to simple random sampling.\n",
    "\n",
    "Fixed Interval: The sampling interval (i.e., how often you select an individual) is fixed and based on the desired sample size.\n",
    "\n",
    "How Systematic Sampling Works:\n",
    "Define the population: Create a list or ordered set of all members of the population.\n",
    "\n",
    "Choose a starting point: Randomly select a starting point between 1 and the sampling interval (k).\n",
    "\n",
    "Select every nth individual: After the starting point, select every nth individual based on the calculated sampling interval.\n",
    "\n",
    "Continue until the desired sample size is reached."
   ]
  },
  {
   "cell_type": "markdown",
   "id": "d46023a1",
   "metadata": {},
   "source": [
    "Sampling Interval (k) = Population size / Sample size"
   ]
  },
  {
   "cell_type": "code",
   "execution_count": 4,
   "id": "d7ff2a0a",
   "metadata": {},
   "outputs": [
    {
     "name": "stdout",
     "output_type": "stream",
     "text": [
      "Sampling Interval (k): 10\n",
      "Random Starting Point: 1\n",
      "Systematic Sample: [  1  11  21  31  41  51  61  71  81  91 101 111 121 131 141 151 161 171\n",
      " 181 191 201 211 221 231 241 251 261 271 281 291 301 311 321 331 341 351\n",
      " 361 371 381 391 401 411 421 431 441 451 461 471 481 491]\n"
     ]
    }
   ],
   "source": [
    "import numpy as np\n",
    "import pandas as pd\n",
    "\n",
    "# Create a sample population (e.g., 500 individuals)\n",
    "population = np.arange(1, 501)  # Population: 500 individuals (1, 2, 3,... 500)\n",
    "\n",
    "# Define sample size\n",
    "sample_size = 50\n",
    "\n",
    "# Calculate the sampling interval (k)\n",
    "sampling_interval = len(population) // sample_size\n",
    "print(f\"Sampling Interval (k): {sampling_interval}\")\n",
    "\n",
    "# Choose a random starting point between 1 and the sampling interval\n",
    "starting_point = np.random.randint(1, sampling_interval+1)\n",
    "print(f\"Random Starting Point: {starting_point}\")\n",
    "\n",
    "# Select every nth individual (Systematic Sampling)\n",
    "sample = population[starting_point-1::sampling_interval]\n",
    "\n",
    "# Show the sample\n",
    "print(f\"Systematic Sample: {sample}\")\n"
   ]
  },
  {
   "cell_type": "markdown",
   "id": "4fe08d0a",
   "metadata": {},
   "source": [
    "Cluster Sampling is a type of probability sampling method where the population is divided into distinct groups or clusters, and a random sample of clusters is selected. Then, either all individuals within the selected clusters are surveyed (single-stage) or a random sample of individuals is chosen from each of the selected clusters (two-stage)."
   ]
  },
  {
   "cell_type": "code",
   "execution_count": 5,
   "id": "6dc7c8d7",
   "metadata": {},
   "outputs": [
    {
     "name": "stdout",
     "output_type": "stream",
     "text": [
      "Selected Clusters: [2 1 9]\n",
      "Cluster Sample: [ 201  202  203  204  205  206  207  208  209  210  211  212  213  214\n",
      "  215  216  217  218  219  220  221  222  223  224  225  226  227  228\n",
      "  229  230  231  232  233  234  235  236  237  238  239  240  241  242\n",
      "  243  244  245  246  247  248  249  250  251  252  253  254  255  256\n",
      "  257  258  259  260  261  262  263  264  265  266  267  268  269  270\n",
      "  271  272  273  274  275  276  277  278  279  280  281  282  283  284\n",
      "  285  286  287  288  289  290  291  292  293  294  295  296  297  298\n",
      "  299  300  101  102  103  104  105  106  107  108  109  110  111  112\n",
      "  113  114  115  116  117  118  119  120  121  122  123  124  125  126\n",
      "  127  128  129  130  131  132  133  134  135  136  137  138  139  140\n",
      "  141  142  143  144  145  146  147  148  149  150  151  152  153  154\n",
      "  155  156  157  158  159  160  161  162  163  164  165  166  167  168\n",
      "  169  170  171  172  173  174  175  176  177  178  179  180  181  182\n",
      "  183  184  185  186  187  188  189  190  191  192  193  194  195  196\n",
      "  197  198  199  200  901  902  903  904  905  906  907  908  909  910\n",
      "  911  912  913  914  915  916  917  918  919  920  921  922  923  924\n",
      "  925  926  927  928  929  930  931  932  933  934  935  936  937  938\n",
      "  939  940  941  942  943  944  945  946  947  948  949  950  951  952\n",
      "  953  954  955  956  957  958  959  960  961  962  963  964  965  966\n",
      "  967  968  969  970  971  972  973  974  975  976  977  978  979  980\n",
      "  981  982  983  984  985  986  987  988  989  990  991  992  993  994\n",
      "  995  996  997  998  999 1000]\n"
     ]
    }
   ],
   "source": [
    "import numpy as np\n",
    "\n",
    "# Create a population of 1000 individuals (grouped into 10 clusters)\n",
    "population = np.arange(1, 1001)  # 1000 individuals\n",
    "clusters = np.split(population, 10)  # Dividing population into 10 clusters\n",
    "\n",
    "# Number of clusters to sample\n",
    "num_clusters_to_sample = 3\n",
    "\n",
    "# Randomly select 3 clusters\n",
    "selected_clusters = np.random.choice(range(10), num_clusters_to_sample, replace=False)\n",
    "\n",
    "# Retrieve all individuals from the selected clusters\n",
    "sample = np.concatenate([clusters[i] for i in selected_clusters])\n",
    "\n",
    "# Show the selected sample\n",
    "print(f\"Selected Clusters: {selected_clusters}\")\n",
    "print(f\"Cluster Sample: {sample}\")\n"
   ]
  },
  {
   "cell_type": "markdown",
   "id": "8d688a18",
   "metadata": {},
   "source": [
    "Multistage Sampling"
   ]
  },
  {
   "cell_type": "markdown",
   "id": "64b8e4a2",
   "metadata": {},
   "source": [
    "Multistage Sampling is a sampling technique that combines multiple sampling methods in a sequential manner. It is typically used when a population is large, geographically dispersed, or difficult to access, and other sampling techniques "
   ]
  },
  {
   "cell_type": "markdown",
   "id": "1728079b",
   "metadata": {},
   "source": [
    "Example:\n",
    "Consider you want to conduct a survey to understand the educational quality of students across a country.\n",
    "\n",
    "Stage 1: Divide the country into 10 regions.\n",
    "\n",
    "Stage 2: Randomly select 3 regions out of the 10.\n",
    "\n",
    "Stage 3: In each selected region, randomly choose 2 cities or districts.\n",
    "\n",
    "Stage 4: In each city, randomly select 5 schools.\n",
    "\n",
    "Stage 5: Finally, within each selected school, randomly choose 10 students.\n",
    "\n",
    "This approach uses a combination of cluster sampling (for regions, cities, and schools) and simple random sampling (for students within schools)."
   ]
  },
  {
   "cell_type": "code",
   "execution_count": 6,
   "id": "019ef4b9",
   "metadata": {},
   "outputs": [
    {
     "name": "stdout",
     "output_type": "stream",
     "text": [
      "Selected Regions: ['Region 4', 'Region 5']\n",
      "Selected Cities from each region: {'Region 4': ['City 4A', 'City 4B'], 'Region 5': ['City 5A', 'City 5B']}\n",
      "Selected Schools: {}\n",
      "Final Sample of Students: {}\n"
     ]
    }
   ],
   "source": [
    "import numpy as np\n",
    "import random\n",
    "\n",
    "# Stage 1: Divide the country into 5 regions\n",
    "regions = [\"Region 1\", \"Region 2\", \"Region 3\", \"Region 4\", \"Region 5\"]\n",
    "\n",
    "# Stage 2: Randomly select 2 regions\n",
    "selected_regions = random.sample(regions, 2)\n",
    "print(f\"Selected Regions: {selected_regions}\")\n",
    "\n",
    "# Stage 3: For each selected region, randomly select 2 cities\n",
    "cities_in_regions = {\n",
    "    \"Region 1\": [\"City 1A\", \"City 1B\", \"City 1C\"],\n",
    "    \"Region 2\": [\"City 2A\", \"City 2B\", \"City 2C\"],\n",
    "    \"Region 3\": [\"City 3A\", \"City 3B\", \"City 3C\"],\n",
    "    \"Region 4\": [\"City 4A\", \"City 4B\", \"City 4C\"],\n",
    "    \"Region 5\": [\"City 5A\", \"City 5B\", \"City 5C\"]\n",
    "}\n",
    "\n",
    "selected_cities = {region: random.sample(cities, 2) for region, cities in cities_in_regions.items() if region in selected_regions}\n",
    "print(f\"Selected Cities from each region: {selected_cities}\")\n",
    "\n",
    "# Stage 4: For each selected city, randomly select 2 schools\n",
    "schools_in_cities = {\n",
    "    \"City 1A\": [\"School A1\", \"School A2\", \"School A3\"],\n",
    "    \"City 1B\": [\"School B1\", \"School B2\", \"School B3\"],\n",
    "    \"City 1C\": [\"School C1\", \"School C2\", \"School C3\"],\n",
    "    \"City 2A\": [\"School D1\", \"School D2\", \"School D3\"],\n",
    "    \"City 2B\": [\"School E1\", \"School E2\", \"School E3\"],\n",
    "    \"City 2C\": [\"School F1\", \"School F2\", \"School F3\"],\n",
    "    \"City 3A\": [\"School G1\", \"School G2\", \"School G3\"],\n",
    "    \"City 3B\": [\"School H1\", \"School H2\", \"School H3\"],\n",
    "    \"City 3C\": [\"School I1\", \"School I2\", \"School I3\"],\n",
    "    \"City 4A\": [\"School J1\", \"School J2\", \"School J3\"],\n",
    "    \"City 4B\": [\"School K1\", \"School K2\", \"School K3\"],\n",
    "    \"City 4C\": [\"School L1\", \"School L2\", \"School L3\"],\n",
    "    \"City 5A\": [\"School M1\", \"School M2\", \"School M3\"],\n",
    "    \"City 5B\": [\"School N1\", \"School N2\", \"School N3\"],\n",
    "    \"City 5C\": [\"School O1\", \"School O2\", \"School O3\"]\n",
    "}\n",
    "\n",
    "selected_schools = {city: random.sample(schools, 2) for region in selected_regions for city, schools in cities_in_regions.items() if city in selected_cities[region]}\n",
    "print(f\"Selected Schools: {selected_schools}\")\n",
    "\n",
    "# Stage 5: From each selected school, randomly select 3 students\n",
    "students_in_schools = {\n",
    "    \"School A1\": [\"Student 1\", \"Student 2\", \"Student 3\", \"Student 4\", \"Student 5\"],\n",
    "    \"School A2\": [\"Student 6\", \"Student 7\", \"Student 8\", \"Student 9\", \"Student 10\"],\n",
    "    \"School A3\": [\"Student 11\", \"Student 12\", \"Student 13\", \"Student 14\", \"Student 15\"],\n",
    "    \"School B1\": [\"Student 16\", \"Student 17\", \"Student 18\", \"Student 19\", \"Student 20\"],\n",
    "    \"School B2\": [\"Student 21\", \"Student 22\", \"Student 23\", \"Student 24\", \"Student 25\"],\n",
    "    # ... Continue similarly for all other schools\n",
    "}\n",
    "\n",
    "final_sample = {school: random.sample(students, 3) for school, students in students_in_schools.items() if school in selected_schools}\n",
    "print(f\"Final Sample of Students: {final_sample}\")\n"
   ]
  },
  {
   "cell_type": "markdown",
   "id": "d57a77ec",
   "metadata": {},
   "source": [
    "Convenience Sampling: Overview\n",
    "Convenience Sampling is a non-probability sampling technique where individuals are selected based on their easy accessibility or convenience. In this method, researchers choose subjects who are easiest to reach or who are readily available, rather than using random selection or a more structured sampling approach. It's the simplest and least expensive method of sampling."
   ]
  },
  {
   "cell_type": "code",
   "execution_count": 7,
   "id": "1d556e98",
   "metadata": {},
   "outputs": [
    {
     "name": "stdout",
     "output_type": "stream",
     "text": [
      "Convenience Sample: ['Student 1', 'Student 2', 'Student 3', 'Student 4', 'Student 5', 'Student 6', 'Student 7', 'Student 8', 'Student 9', 'Student 10']\n"
     ]
    }
   ],
   "source": [
    "import numpy as np\n",
    "\n",
    "# Create a population of 100 students\n",
    "students = [f\"Student {i}\" for i in range(1, 101)]\n",
    "\n",
    "# Perform Convenience Sampling by selecting the first 10 students (easy access)\n",
    "sampled_students = students[:10]\n",
    "\n",
    "# Show the sample\n",
    "print(\"Convenience Sample:\", sampled_students)\n"
   ]
  },
  {
   "cell_type": "markdown",
   "id": "c93849ae",
   "metadata": {},
   "source": [
    "Judgmental Sampling, also known as Purposive Sampling or Selective Sampling, is a non-probability sampling technique where the researcher uses their judgment to select specific individuals or units from the population that are deemed to be representative or informative. "
   ]
  },
  {
   "cell_type": "code",
   "execution_count": 8,
   "id": "29a858ff",
   "metadata": {},
   "outputs": [
    {
     "name": "stdout",
     "output_type": "stream",
     "text": [
      "Selected Employees for Focus Group:\n",
      "- Alice\n",
      "- Charlie\n",
      "- David\n"
     ]
    }
   ],
   "source": [
    "# Sample population of employees with their skill sets\n",
    "employees = [\n",
    "    {\"name\": \"Alice\", \"skills\": [\"Python\", \"Machine Learning\"]},\n",
    "    {\"name\": \"Bob\", \"skills\": [\"Marketing\", \"Sales\"]},\n",
    "    {\"name\": \"Charlie\", \"skills\": [\"Data Science\", \"Python\"]},\n",
    "    {\"name\": \"David\", \"skills\": [\"Python\", \"AI\"]},\n",
    "    {\"name\": \"Eve\", \"skills\": [\"Project Management\", \"Agile\"]},\n",
    "]\n",
    "\n",
    "# Judgmental Sampling: Select employees with Python skills for a focus group\n",
    "selected_employees = [employee for employee in employees if \"Python\" in employee[\"skills\"]]\n",
    "\n",
    "# Show selected employees\n",
    "print(\"Selected Employees for Focus Group:\")\n",
    "for employee in selected_employees:\n",
    "    print(f\"- {employee['name']}\")\n"
   ]
  },
  {
   "cell_type": "markdown",
   "id": "0fc23280",
   "metadata": {},
   "source": [
    "Snowball Sampling:\n",
    "    Instead of randomly selecting participants, it starts by approaching a few known members of the community and ask them to refer others who participate in the same online platform. As more members refer others, sample grows."
   ]
  },
  {
   "cell_type": "code",
   "execution_count": 10,
   "id": "081775ad",
   "metadata": {},
   "outputs": [
    {
     "name": "stdout",
     "output_type": "stream",
     "text": [
      "Final Sample of Participants (After Snowball Sampling):\n",
      "{'David_2_3', 'Alice_3', 'David_3_3', 'Alice_2_1', 'Bob', 'Charlie', 'David_3_1', 'Alice_1_2', 'Alice_3_2', 'Eve_3_2', 'Alice_1_3', 'Alice_2_3', 'Charlie_2_1', 'Bob_1_2', 'Eve_3_1', 'David_2_2', 'David_3_2', 'David_2', 'David_3', 'Alice_3_1', 'Bob_2', 'David_1', 'Charlie_3_2', 'Bob_1_1', 'Eve_2_1', 'Charlie_1_3', 'Eve_3', 'Eve_1_1', 'Eve_2', 'Charlie_3', 'David_2_1', 'David_1_1', 'Charlie_2_2', 'Eve_1_3', 'Bob_1_3', 'Alice_2_2', 'Bob_3_2', 'Charlie_3_1', 'Eve_2_2', 'Bob_3', 'Alice_1_1', 'Charlie_1_2', 'David_1_2', 'Alice_3_3', 'Charlie_3_3', 'David_1_3', 'Eve_3_3', 'Charlie_2_3', 'Bob_2_3', 'Alice', 'Alice_1', 'Eve_2_3', 'Eve', 'Charlie_1', 'Bob_2_2', 'Alice_2', 'Eve_1', 'Charlie_2', 'Bob_2_1', 'Bob_3_3', 'Bob_1', 'Charlie_1_1', 'Bob_3_1', 'David', 'Eve_1_2'}\n"
     ]
    }
   ],
   "source": [
    "import random\n",
    "\n",
    "# Seed participants in the community\n",
    "seed_participants = [\"Alice\", \"Bob\", \"Charlie\", \"David\", \"Eve\"]\n",
    "\n",
    "# Create a function to simulate snowball sampling\n",
    "def snowball_sampling(seeds, num_referrals=3, max_rounds=2):\n",
    "    sample = set(seeds)  # To keep track of unique participants\n",
    "    round_num = 0\n",
    "    while round_num < max_rounds:\n",
    "        new_participants = []\n",
    "        for participant in sample:\n",
    "            # Simulate that each participant refers 'num_referrals' new participants\n",
    "            referrals = [f\"{participant}_{i}\" for i in range(1, num_referrals + 1)]\n",
    "            new_participants.extend(referrals)\n",
    "        \n",
    "        # Add new participants to the sample\n",
    "        sample.update(new_participants)\n",
    "        round_num += 1\n",
    "        \n",
    "    return sample\n",
    "\n",
    "# Simulate snowball sampling starting with seed participants\n",
    "final_sample = snowball_sampling(seed_participants)\n",
    "\n",
    "# Show the final sample\n",
    "print(\"Final Sample of Participants (After Snowball Sampling):\")\n",
    "print(final_sample)\n"
   ]
  },
  {
   "cell_type": "code",
   "execution_count": null,
   "id": "68db42ca",
   "metadata": {},
   "outputs": [],
   "source": []
  }
 ],
 "metadata": {
  "kernelspec": {
   "display_name": "Python 3 (ipykernel)",
   "language": "python",
   "name": "python3"
  },
  "language_info": {
   "codemirror_mode": {
    "name": "ipython",
    "version": 3
   },
   "file_extension": ".py",
   "mimetype": "text/x-python",
   "name": "python",
   "nbconvert_exporter": "python",
   "pygments_lexer": "ipython3",
   "version": "3.9.12"
  }
 },
 "nbformat": 4,
 "nbformat_minor": 5
}
